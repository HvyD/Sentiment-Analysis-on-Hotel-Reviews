{
 "cells": [
  {
   "cell_type": "markdown",
   "metadata": {},
   "source": [
    "# Hotel Reviews Sentiment Analysis\n",
    "The data set is the [Deceptive Opinion Spam Corpus v1.4](\"http://myleott.com/op-spam.html\")"
   ]
  },
  {
   "cell_type": "code",
   "execution_count": 1,
   "metadata": {},
   "outputs": [
    {
     "name": "stderr",
     "output_type": "stream",
     "text": [
      "/home/hvyd/anaconda3/lib/python3.6/site-packages/sklearn/cross_validation.py:41: DeprecationWarning: This module was deprecated in version 0.18 in favor of the model_selection module into which all the refactored classes and functions are moved. Also note that the interface of the new CV iterators are different from that of this module. This module will be removed in 0.20.\n",
      "  \"This module will be removed in 0.20.\", DeprecationWarning)\n",
      "/home/hvyd/anaconda3/lib/python3.6/site-packages/sklearn/grid_search.py:42: DeprecationWarning: This module was deprecated in version 0.18 in favor of the model_selection module into which all the refactored classes and functions are moved. This module will be removed in 0.20.\n",
      "  DeprecationWarning)\n"
     ]
    },
    {
     "name": "stdout",
     "output_type": "stream",
     "text": [
      "[nltk_data] Downloading package stopwords to /home/hvyd/nltk_data...\n",
      "[nltk_data]   Package stopwords is already up-to-date!\n",
      "[nltk_data] Downloading package punkt to /home/hvyd/nltk_data...\n",
      "[nltk_data]   Package punkt is already up-to-date!\n",
      "[nltk_data] Downloading package averaged_perceptron_tagger to\n",
      "[nltk_data]     /home/hvyd/nltk_data...\n",
      "[nltk_data]   Package averaged_perceptron_tagger is already up-to-\n",
      "[nltk_data]       date!\n"
     ]
    },
    {
     "data": {
      "text/plain": [
       "True"
      ]
     },
     "execution_count": 1,
     "metadata": {},
     "output_type": "execute_result"
    }
   ],
   "source": [
    "import os\n",
    "import pandas as pd\n",
    "import regex as re\n",
    "import operator\n",
    "import fnmatch\n",
    "import pickle\n",
    "from textblob import TextBlob\n",
    "\n",
    "import nltk\n",
    "from nltk.corpus import stopwords\n",
    "from nltk import pos_tag,pos_tag_sents\n",
    "\n",
    "from sklearn.feature_extraction.text import TfidfVectorizer\n",
    "from sklearn.svm import SVC, LinearSVC\n",
    "from sklearn.metrics import classification_report, accuracy_score, confusion_matrix\n",
    "from sklearn.cross_validation import train_test_split  \n",
    "from sklearn import metrics\n",
    "from sklearn import svm\n",
    "from sklearn.grid_search import GridSearchCV\n",
    "\n",
    "import matplotlib.pyplot as plt\n",
    "import seaborn as sns\n",
    "\n",
    "nltk.download('stopwords')\n",
    "nltk.download('punkt')\n",
    "nltk.download('averaged_perceptron_tagger')"
   ]
  },
  {
   "cell_type": "markdown",
   "metadata": {},
   "source": [
    "# Data import and Processing"
   ]
  },
  {
   "cell_type": "code",
   "execution_count": 2,
   "metadata": {},
   "outputs": [],
   "source": [
    "path = 'data/op_spam_v1.4/'\n",
    "\n",
    "label = []\n",
    "\n",
    "configfiles = [os.path.join(subdir,f)\n",
    "for subdir, dirs, files in os.walk(path)\n",
    "    for f in fnmatch.filter(files, '*.txt')]"
   ]
  },
  {
   "cell_type": "code",
   "execution_count": 3,
   "metadata": {},
   "outputs": [
    {
     "name": "stdout",
     "output_type": "stream",
     "text": [
      "Number of Files in DataSet:  1600\n",
      "TEST file print: data/op_spam_v1.4/positive_polarity/truthful_from_TripAdvisor/fold2/t_ambassador_10.txt\n"
     ]
    }
   ],
   "source": [
    "print('Number of Files in DataSet: ',len(configfiles))\n",
    "print(\"TEST file print:\", configfiles[42])"
   ]
  },
  {
   "cell_type": "code",
   "execution_count": 4,
   "metadata": {},
   "outputs": [],
   "source": [
    "for f in configfiles:\n",
    "    c = re.search('(trut|deceptiv)\\w',f)\n",
    "    label.append(c.group())"
   ]
  },
  {
   "cell_type": "code",
   "execution_count": 5,
   "metadata": {},
   "outputs": [
    {
     "data": {
      "text/html": [
       "<div>\n",
       "<style scoped>\n",
       "    .dataframe tbody tr th:only-of-type {\n",
       "        vertical-align: middle;\n",
       "    }\n",
       "\n",
       "    .dataframe tbody tr th {\n",
       "        vertical-align: top;\n",
       "    }\n",
       "\n",
       "    .dataframe thead th {\n",
       "        text-align: right;\n",
       "    }\n",
       "</style>\n",
       "<table border=\"1\" class=\"dataframe\">\n",
       "  <thead>\n",
       "    <tr style=\"text-align: right;\">\n",
       "      <th></th>\n",
       "      <th>Labels</th>\n",
       "    </tr>\n",
       "  </thead>\n",
       "  <tbody>\n",
       "    <tr>\n",
       "      <th>0</th>\n",
       "      <td>truth</td>\n",
       "    </tr>\n",
       "    <tr>\n",
       "      <th>1</th>\n",
       "      <td>truth</td>\n",
       "    </tr>\n",
       "    <tr>\n",
       "      <th>2</th>\n",
       "      <td>truth</td>\n",
       "    </tr>\n",
       "    <tr>\n",
       "      <th>3</th>\n",
       "      <td>truth</td>\n",
       "    </tr>\n",
       "    <tr>\n",
       "      <th>4</th>\n",
       "      <td>truth</td>\n",
       "    </tr>\n",
       "  </tbody>\n",
       "</table>\n",
       "</div>"
      ],
      "text/plain": [
       "  Labels\n",
       "0  truth\n",
       "1  truth\n",
       "2  truth\n",
       "3  truth\n",
       "4  truth"
      ]
     },
     "execution_count": 5,
     "metadata": {},
     "output_type": "execute_result"
    }
   ],
   "source": [
    "labels = pd.DataFrame(label, columns = ['Labels'])\n",
    "labels.head()"
   ]
  },
  {
   "cell_type": "code",
   "execution_count": 6,
   "metadata": {},
   "outputs": [],
   "source": [
    "review = []\n",
    "directory =os.path.join(\"data/op_spam_v1.4/\")\n",
    "for subdir,dirs ,files in os.walk(directory):\n",
    "   # print (subdir)\n",
    "    for file in files:\n",
    "        if fnmatch.filter(files, '*.txt'):\n",
    "            f=open(os.path.join(subdir, file),'r')\n",
    "            a = f.read()\n",
    "            review.append(a)"
   ]
  },
  {
   "cell_type": "code",
   "execution_count": 7,
   "metadata": {},
   "outputs": [
    {
     "data": {
      "text/html": [
       "<div>\n",
       "<style scoped>\n",
       "    .dataframe tbody tr th:only-of-type {\n",
       "        vertical-align: middle;\n",
       "    }\n",
       "\n",
       "    .dataframe tbody tr th {\n",
       "        vertical-align: top;\n",
       "    }\n",
       "\n",
       "    .dataframe thead th {\n",
       "        text-align: right;\n",
       "    }\n",
       "</style>\n",
       "<table border=\"1\" class=\"dataframe\">\n",
       "  <thead>\n",
       "    <tr style=\"text-align: right;\">\n",
       "      <th></th>\n",
       "      <th>HotelReviews</th>\n",
       "    </tr>\n",
       "  </thead>\n",
       "  <tbody>\n",
       "    <tr>\n",
       "      <th>0</th>\n",
       "      <td>Ambassador East is an awesome hotel!!! Underst...</td>\n",
       "    </tr>\n",
       "    <tr>\n",
       "      <th>1</th>\n",
       "      <td>This hotel was PERFECT for our girls getaway. ...</td>\n",
       "    </tr>\n",
       "    <tr>\n",
       "      <th>2</th>\n",
       "      <td>Stayed at the Chicago Affinia Dec 10 thru Dec ...</td>\n",
       "    </tr>\n",
       "    <tr>\n",
       "      <th>3</th>\n",
       "      <td>Stayed at this hotel with 3 friends or 4 night...</td>\n",
       "    </tr>\n",
       "    <tr>\n",
       "      <th>4</th>\n",
       "      <td>We live down the block from the hotel. We arra...</td>\n",
       "    </tr>\n",
       "  </tbody>\n",
       "</table>\n",
       "</div>"
      ],
      "text/plain": [
       "                                        HotelReviews\n",
       "0  Ambassador East is an awesome hotel!!! Underst...\n",
       "1  This hotel was PERFECT for our girls getaway. ...\n",
       "2  Stayed at the Chicago Affinia Dec 10 thru Dec ...\n",
       "3  Stayed at this hotel with 3 friends or 4 night...\n",
       "4  We live down the block from the hotel. We arra..."
      ]
     },
     "execution_count": 7,
     "metadata": {},
     "output_type": "execute_result"
    }
   ],
   "source": [
    "reviews = pd.DataFrame(review, columns = ['HotelReviews'])\n",
    "reviews.head()"
   ]
  },
  {
   "cell_type": "code",
   "execution_count": 8,
   "metadata": {},
   "outputs": [
    {
     "data": {
      "text/html": [
       "<div>\n",
       "<style scoped>\n",
       "    .dataframe tbody tr th:only-of-type {\n",
       "        vertical-align: middle;\n",
       "    }\n",
       "\n",
       "    .dataframe tbody tr th {\n",
       "        vertical-align: top;\n",
       "    }\n",
       "\n",
       "    .dataframe thead th {\n",
       "        text-align: right;\n",
       "    }\n",
       "</style>\n",
       "<table border=\"1\" class=\"dataframe\">\n",
       "  <thead>\n",
       "    <tr style=\"text-align: right;\">\n",
       "      <th></th>\n",
       "      <th>HotelReviews</th>\n",
       "      <th>Labels</th>\n",
       "    </tr>\n",
       "  </thead>\n",
       "  <tbody>\n",
       "    <tr>\n",
       "      <th>0</th>\n",
       "      <td>ambassador east is an awesome hotel!!! underst...</td>\n",
       "      <td>truth</td>\n",
       "    </tr>\n",
       "    <tr>\n",
       "      <th>1</th>\n",
       "      <td>this hotel was perfect for our girls getaway. ...</td>\n",
       "      <td>truth</td>\n",
       "    </tr>\n",
       "    <tr>\n",
       "      <th>2</th>\n",
       "      <td>stayed at the chicago affinia dec 10 thru dec ...</td>\n",
       "      <td>truth</td>\n",
       "    </tr>\n",
       "    <tr>\n",
       "      <th>3</th>\n",
       "      <td>stayed at this hotel with 3 friends or 4 night...</td>\n",
       "      <td>truth</td>\n",
       "    </tr>\n",
       "    <tr>\n",
       "      <th>4</th>\n",
       "      <td>we live down the block from the hotel. we arra...</td>\n",
       "      <td>truth</td>\n",
       "    </tr>\n",
       "  </tbody>\n",
       "</table>\n",
       "</div>"
      ],
      "text/plain": [
       "                                        HotelReviews Labels\n",
       "0  ambassador east is an awesome hotel!!! underst...  truth\n",
       "1  this hotel was perfect for our girls getaway. ...  truth\n",
       "2  stayed at the chicago affinia dec 10 thru dec ...  truth\n",
       "3  stayed at this hotel with 3 friends or 4 night...  truth\n",
       "4  we live down the block from the hotel. we arra...  truth"
      ]
     },
     "execution_count": 8,
     "metadata": {},
     "output_type": "execute_result"
    }
   ],
   "source": [
    "result = pd.merge(reviews, labels,right_index=True,left_index = True)\n",
    "result['HotelReviews'] = result['HotelReviews'].map(lambda x: x.lower())\n",
    "result.head()"
   ]
  },
  {
   "cell_type": "code",
   "execution_count": 9,
   "metadata": {},
   "outputs": [
    {
     "data": {
      "text/html": [
       "<div>\n",
       "<style scoped>\n",
       "    .dataframe tbody tr th:only-of-type {\n",
       "        vertical-align: middle;\n",
       "    }\n",
       "\n",
       "    .dataframe tbody tr th {\n",
       "        vertical-align: top;\n",
       "    }\n",
       "\n",
       "    .dataframe thead th {\n",
       "        text-align: right;\n",
       "    }\n",
       "</style>\n",
       "<table border=\"1\" class=\"dataframe\">\n",
       "  <thead>\n",
       "    <tr style=\"text-align: right;\">\n",
       "      <th></th>\n",
       "      <th>HotelReviews</th>\n",
       "      <th>Labels</th>\n",
       "      <th>review_without_stopwords</th>\n",
       "    </tr>\n",
       "  </thead>\n",
       "  <tbody>\n",
       "    <tr>\n",
       "      <th>0</th>\n",
       "      <td>ambassador east is an awesome hotel!!! underst...</td>\n",
       "      <td>truth</td>\n",
       "      <td>ambassador east awesome hotel!!! understand ho...</td>\n",
       "    </tr>\n",
       "    <tr>\n",
       "      <th>1</th>\n",
       "      <td>this hotel was perfect for our girls getaway. ...</td>\n",
       "      <td>truth</td>\n",
       "      <td>hotel perfect girls getaway. decor fun &amp; refre...</td>\n",
       "    </tr>\n",
       "    <tr>\n",
       "      <th>2</th>\n",
       "      <td>stayed at the chicago affinia dec 10 thru dec ...</td>\n",
       "      <td>truth</td>\n",
       "      <td>stayed chicago affinia dec 10 thru dec 12 impr...</td>\n",
       "    </tr>\n",
       "    <tr>\n",
       "      <th>3</th>\n",
       "      <td>stayed at this hotel with 3 friends or 4 night...</td>\n",
       "      <td>truth</td>\n",
       "      <td>stayed hotel 3 friends 4 nights. hotel clean t...</td>\n",
       "    </tr>\n",
       "    <tr>\n",
       "      <th>4</th>\n",
       "      <td>we live down the block from the hotel. we arra...</td>\n",
       "      <td>truth</td>\n",
       "      <td>live block hotel. arranged new floors put cond...</td>\n",
       "    </tr>\n",
       "  </tbody>\n",
       "</table>\n",
       "</div>"
      ],
      "text/plain": [
       "                                        HotelReviews Labels  \\\n",
       "0  ambassador east is an awesome hotel!!! underst...  truth   \n",
       "1  this hotel was perfect for our girls getaway. ...  truth   \n",
       "2  stayed at the chicago affinia dec 10 thru dec ...  truth   \n",
       "3  stayed at this hotel with 3 friends or 4 night...  truth   \n",
       "4  we live down the block from the hotel. we arra...  truth   \n",
       "\n",
       "                            review_without_stopwords  \n",
       "0  ambassador east awesome hotel!!! understand ho...  \n",
       "1  hotel perfect girls getaway. decor fun & refre...  \n",
       "2  stayed chicago affinia dec 10 thru dec 12 impr...  \n",
       "3  stayed hotel 3 friends 4 nights. hotel clean t...  \n",
       "4  live block hotel. arranged new floors put cond...  "
      ]
     },
     "execution_count": 9,
     "metadata": {},
     "output_type": "execute_result"
    }
   ],
   "source": [
    "stop = stopwords.words('english')\n",
    "result['review_without_stopwords'] = result['HotelReviews'].apply(lambda x: ' '.join([word for word in x.split() if word not in (stop)]))\n",
    "result.head()"
   ]
  },
  {
   "cell_type": "code",
   "execution_count": 10,
   "metadata": {},
   "outputs": [],
   "source": [
    "def pos(review_without_stopwords):\n",
    "    return TextBlob(review_without_stopwords).tags"
   ]
  },
  {
   "cell_type": "code",
   "execution_count": 11,
   "metadata": {},
   "outputs": [
    {
     "data": {
      "text/html": [
       "<div>\n",
       "<style scoped>\n",
       "    .dataframe tbody tr th:only-of-type {\n",
       "        vertical-align: middle;\n",
       "    }\n",
       "\n",
       "    .dataframe tbody tr th {\n",
       "        vertical-align: top;\n",
       "    }\n",
       "\n",
       "    .dataframe thead th {\n",
       "        text-align: right;\n",
       "    }\n",
       "</style>\n",
       "<table border=\"1\" class=\"dataframe\">\n",
       "  <thead>\n",
       "    <tr style=\"text-align: right;\">\n",
       "      <th></th>\n",
       "      <th>review_without_stopwords</th>\n",
       "    </tr>\n",
       "  </thead>\n",
       "  <tbody>\n",
       "    <tr>\n",
       "      <th>0</th>\n",
       "      <td>[(ambassador, NN), (east, JJ), (awesome, JJ), ...</td>\n",
       "    </tr>\n",
       "    <tr>\n",
       "      <th>1</th>\n",
       "      <td>[(hotel, NN), (perfect, JJ), (girls, NNS), (ge...</td>\n",
       "    </tr>\n",
       "    <tr>\n",
       "      <th>2</th>\n",
       "      <td>[(stayed, VBN), (chicago, NN), (affinia, NN), ...</td>\n",
       "    </tr>\n",
       "    <tr>\n",
       "      <th>3</th>\n",
       "      <td>[(stayed, JJ), (hotel, NN), (3, CD), (friends,...</td>\n",
       "    </tr>\n",
       "    <tr>\n",
       "      <th>4</th>\n",
       "      <td>[(live, JJ), (block, NN), (hotel, NN), (arrang...</td>\n",
       "    </tr>\n",
       "  </tbody>\n",
       "</table>\n",
       "</div>"
      ],
      "text/plain": [
       "                            review_without_stopwords\n",
       "0  [(ambassador, NN), (east, JJ), (awesome, JJ), ...\n",
       "1  [(hotel, NN), (perfect, JJ), (girls, NNS), (ge...\n",
       "2  [(stayed, VBN), (chicago, NN), (affinia, NN), ...\n",
       "3  [(stayed, JJ), (hotel, NN), (3, CD), (friends,...\n",
       "4  [(live, JJ), (block, NN), (hotel, NN), (arrang..."
      ]
     },
     "execution_count": 11,
     "metadata": {},
     "output_type": "execute_result"
    }
   ],
   "source": [
    "os = result.review_without_stopwords.apply(pos)\n",
    "os1 = pd.DataFrame(os)\n",
    "os1.head()"
   ]
  },
  {
   "cell_type": "code",
   "execution_count": 12,
   "metadata": {},
   "outputs": [
    {
     "data": {
      "text/html": [
       "<div>\n",
       "<style scoped>\n",
       "    .dataframe tbody tr th:only-of-type {\n",
       "        vertical-align: middle;\n",
       "    }\n",
       "\n",
       "    .dataframe tbody tr th {\n",
       "        vertical-align: top;\n",
       "    }\n",
       "\n",
       "    .dataframe thead th {\n",
       "        text-align: right;\n",
       "    }\n",
       "</style>\n",
       "<table border=\"1\" class=\"dataframe\">\n",
       "  <thead>\n",
       "    <tr style=\"text-align: right;\">\n",
       "      <th></th>\n",
       "      <th>HotelReviews</th>\n",
       "      <th>Labels</th>\n",
       "      <th>review_without_stopwords_x</th>\n",
       "      <th>review_without_stopwords_y</th>\n",
       "      <th>pos</th>\n",
       "    </tr>\n",
       "  </thead>\n",
       "  <tbody>\n",
       "    <tr>\n",
       "      <th>0</th>\n",
       "      <td>ambassador east is an awesome hotel!!! underst...</td>\n",
       "      <td>truth</td>\n",
       "      <td>ambassador east awesome hotel!!! understand ho...</td>\n",
       "      <td>[(ambassador, NN), (east, JJ), (awesome, JJ), ...</td>\n",
       "      <td>ambassador/NN east/JJ awesome/JJ hotel/NN unde...</td>\n",
       "    </tr>\n",
       "    <tr>\n",
       "      <th>1</th>\n",
       "      <td>this hotel was perfect for our girls getaway. ...</td>\n",
       "      <td>truth</td>\n",
       "      <td>hotel perfect girls getaway. decor fun &amp; refre...</td>\n",
       "      <td>[(hotel, NN), (perfect, JJ), (girls, NNS), (ge...</td>\n",
       "      <td>hotel/NN perfect/JJ girls/NNS getaway/RB decor...</td>\n",
       "    </tr>\n",
       "    <tr>\n",
       "      <th>2</th>\n",
       "      <td>stayed at the chicago affinia dec 10 thru dec ...</td>\n",
       "      <td>truth</td>\n",
       "      <td>stayed chicago affinia dec 10 thru dec 12 impr...</td>\n",
       "      <td>[(stayed, VBN), (chicago, NN), (affinia, NN), ...</td>\n",
       "      <td>stayed/VBN chicago/NN affinia/NN dec/NN 10/CD ...</td>\n",
       "    </tr>\n",
       "    <tr>\n",
       "      <th>3</th>\n",
       "      <td>stayed at this hotel with 3 friends or 4 night...</td>\n",
       "      <td>truth</td>\n",
       "      <td>stayed hotel 3 friends 4 nights. hotel clean t...</td>\n",
       "      <td>[(stayed, JJ), (hotel, NN), (3, CD), (friends,...</td>\n",
       "      <td>stayed/JJ hotel/NN 3/CD friends/NNS 4/CD night...</td>\n",
       "    </tr>\n",
       "    <tr>\n",
       "      <th>4</th>\n",
       "      <td>we live down the block from the hotel. we arra...</td>\n",
       "      <td>truth</td>\n",
       "      <td>live block hotel. arranged new floors put cond...</td>\n",
       "      <td>[(live, JJ), (block, NN), (hotel, NN), (arrang...</td>\n",
       "      <td>live/JJ block/NN hotel/NN arranged/VBN new/JJ ...</td>\n",
       "    </tr>\n",
       "  </tbody>\n",
       "</table>\n",
       "</div>"
      ],
      "text/plain": [
       "                                        HotelReviews Labels  \\\n",
       "0  ambassador east is an awesome hotel!!! underst...  truth   \n",
       "1  this hotel was perfect for our girls getaway. ...  truth   \n",
       "2  stayed at the chicago affinia dec 10 thru dec ...  truth   \n",
       "3  stayed at this hotel with 3 friends or 4 night...  truth   \n",
       "4  we live down the block from the hotel. we arra...  truth   \n",
       "\n",
       "                          review_without_stopwords_x  \\\n",
       "0  ambassador east awesome hotel!!! understand ho...   \n",
       "1  hotel perfect girls getaway. decor fun & refre...   \n",
       "2  stayed chicago affinia dec 10 thru dec 12 impr...   \n",
       "3  stayed hotel 3 friends 4 nights. hotel clean t...   \n",
       "4  live block hotel. arranged new floors put cond...   \n",
       "\n",
       "                          review_without_stopwords_y  \\\n",
       "0  [(ambassador, NN), (east, JJ), (awesome, JJ), ...   \n",
       "1  [(hotel, NN), (perfect, JJ), (girls, NNS), (ge...   \n",
       "2  [(stayed, VBN), (chicago, NN), (affinia, NN), ...   \n",
       "3  [(stayed, JJ), (hotel, NN), (3, CD), (friends,...   \n",
       "4  [(live, JJ), (block, NN), (hotel, NN), (arrang...   \n",
       "\n",
       "                                                 pos  \n",
       "0  ambassador/NN east/JJ awesome/JJ hotel/NN unde...  \n",
       "1  hotel/NN perfect/JJ girls/NNS getaway/RB decor...  \n",
       "2  stayed/VBN chicago/NN affinia/NN dec/NN 10/CD ...  \n",
       "3  stayed/JJ hotel/NN 3/CD friends/NNS 4/CD night...  \n",
       "4  live/JJ block/NN hotel/NN arranged/VBN new/JJ ...  "
      ]
     },
     "execution_count": 12,
     "metadata": {},
     "output_type": "execute_result"
    }
   ],
   "source": [
    "os1['pos'] = os1['review_without_stopwords'].map(lambda x:\" \".join([\"/\".join(x) for x in x ]) )\n",
    "result = result = pd.merge(result, os1,right_index=True,left_index = True)\n",
    "result.head()"
   ]
  },
  {
   "cell_type": "markdown",
   "metadata": {},
   "source": [
    "# Training and Predicting The Data"
   ]
  },
  {
   "cell_type": "code",
   "execution_count": 13,
   "metadata": {},
   "outputs": [],
   "source": [
    "review_train, review_test, label_train, label_test = train_test_split(result['pos'],result['Labels'], test_size=0.2,random_state=13)\n",
    "tf_vect = TfidfVectorizer(lowercase = True, use_idf=True, smooth_idf=True, sublinear_tf=False)\n",
    "\n",
    "X_train_tf = tf_vect.fit_transform(review_train)\n",
    "X_test_tf = tf_vect.transform(review_test)"
   ]
  },
  {
   "cell_type": "code",
   "execution_count": 14,
   "metadata": {},
   "outputs": [],
   "source": [
    "def svc_param_selection(X, y, nfolds):\n",
    "    Cs = [0.001, 0.01, 0.1, 1, 10]\n",
    "    gammas = [0.001, 0.01, 0.1, 1]\n",
    "    param_grid = {'C': Cs, 'gamma' : gammas}\n",
    "    grid_search = GridSearchCV(svm.SVC(kernel='linear'), param_grid, cv=nfolds)\n",
    "    grid_search.fit(X, y)\n",
    "    return grid_search.best_params_"
   ]
  },
  {
   "cell_type": "code",
   "execution_count": 15,
   "metadata": {},
   "outputs": [
    {
     "data": {
      "text/plain": [
       "{'C': 1, 'gamma': 0.001}"
      ]
     },
     "execution_count": 15,
     "metadata": {},
     "output_type": "execute_result"
    }
   ],
   "source": [
    "svc_param_selection(X_train_tf,label_train,5)"
   ]
  },
  {
   "cell_type": "code",
   "execution_count": 16,
   "metadata": {},
   "outputs": [
    {
     "data": {
      "text/plain": [
       "SVC(C=10, cache_size=200, class_weight=None, coef0=0.0,\n",
       "  decision_function_shape='ovr', degree=3, gamma=0.001, kernel='linear',\n",
       "  max_iter=-1, probability=False, random_state=None, shrinking=True,\n",
       "  tol=0.001, verbose=False)"
      ]
     },
     "execution_count": 16,
     "metadata": {},
     "output_type": "execute_result"
    }
   ],
   "source": [
    "clf = svm.SVC(C=10,gamma=0.001,kernel='linear')\n",
    "clf.fit(X_train_tf,label_train)"
   ]
  },
  {
   "cell_type": "code",
   "execution_count": 17,
   "metadata": {},
   "outputs": [],
   "source": [
    "pred = clf.predict(X_test_tf)"
   ]
  },
  {
   "cell_type": "code",
   "execution_count": 18,
   "metadata": {},
   "outputs": [],
   "source": [
    "with open('vectorizer.pickle', 'wb') as fin:\n",
    "    pickle.dump(tf_vect, fin)"
   ]
  },
  {
   "cell_type": "code",
   "execution_count": 19,
   "metadata": {},
   "outputs": [],
   "source": [
    "with open('mlmodel.pickle','wb') as f:\n",
    "    pickle.dump(clf,f)"
   ]
  },
  {
   "cell_type": "code",
   "execution_count": 20,
   "metadata": {},
   "outputs": [],
   "source": [
    "pkl = open('mlmodel.pickle', 'rb')\n",
    "clf = pickle.load(pkl)   \n",
    "vec = open('vectorizer.pickle', 'rb')\n",
    "tf_vect = pickle.load(vec)"
   ]
  },
  {
   "cell_type": "code",
   "execution_count": 21,
   "metadata": {},
   "outputs": [],
   "source": [
    "X_test_tf = tf_vect.transform(review_test)\n",
    "pred = clf.predict(X_test_tf)"
   ]
  },
  {
   "cell_type": "code",
   "execution_count": 22,
   "metadata": {},
   "outputs": [
    {
     "name": "stdout",
     "output_type": "stream",
     "text": [
      "[[145  20]\n",
      " [ 25 130]]\n"
     ]
    }
   ],
   "source": [
    "print (confusion_matrix(label_test, pred))"
   ]
  },
  {
   "cell_type": "code",
   "execution_count": 28,
   "metadata": {},
   "outputs": [
    {
     "data": {
      "image/png": "[encoded data removed]",
      "text/plain": [
       "<Figure size 1080x576 with 2 Axes>"
      ]
     },
     "metadata": {},
     "output_type": "display_data"
    },
    {
     "name": "stdout",
     "output_type": "stream",
     "text": [
      "0.971875\n",
      "             precision    recall  f1-score   support\n",
      "\n",
      "  deceptive       0.96      0.98      0.97       152\n",
      "      truth       0.98      0.96      0.97       168\n",
      "\n",
      "avg / total       0.97      0.97      0.97       320\n",
      "\n"
     ]
    }
   ],
   "source": [
    "cm=confusion_matrix(pred,label_test)\n",
    "f,ax=plt.subplots(figsize=(15,8))\n",
    "sns.heatmap(cm,annot=True,ax=ax)\n",
    "ax.set_title(\"Confusion Matrix\",fontsize=15)\n",
    "plt.show()\n",
    "\n",
    "print(metrics.accuracy_score(label_test, pred))\n",
    "print (classification_report(label_test, pred))"
   ]
  },
  {
   "cell_type": "markdown",
   "metadata": {},
   "source": [
    "# Test Model"
   ]
  },
  {
   "cell_type": "code",
   "execution_count": 23,
   "metadata": {},
   "outputs": [],
   "source": [
    "review_train, review_test, label_train, label_test = train_test_split(result['pos'],result['Labels'], test_size=0.2,random_state=42)\n",
    "X_test_tf = tf_vect.transform(review_test)\n",
    "pred = clf.predict(X_test_tf)"
   ]
  },
  {
   "cell_type": "code",
   "execution_count": 24,
   "metadata": {},
   "outputs": [
    {
     "data": {
      "image/png": "[encoded data removed]",
      "text/plain": [
       "<Figure size 1080x576 with 2 Axes>"
      ]
     },
     "metadata": {},
     "output_type": "display_data"
    },
    {
     "name": "stdout",
     "output_type": "stream",
     "text": [
      "0.971875\n",
      "             precision    recall  f1-score   support\n",
      "\n",
      "  deceptive       0.96      0.98      0.97       152\n",
      "      truth       0.98      0.96      0.97       168\n",
      "\n",
      "avg / total       0.97      0.97      0.97       320\n",
      "\n"
     ]
    }
   ],
   "source": [
    "cm=confusion_matrix(pred,label_test)\n",
    "f,ax=plt.subplots(figsize=(15,8))\n",
    "sns.heatmap(cm,annot=True,ax=ax)\n",
    "ax.set_title(\"Confusion Matrix\",fontsize=15)\n",
    "plt.show()\n",
    "\n",
    "print(metrics.accuracy_score(label_test, pred))\n",
    "print (classification_report(label_test, pred))"
   ]
  },
  {
   "cell_type": "code",
   "execution_count": 25,
   "metadata": {},
   "outputs": [],
   "source": [
    "def test_string(s):\n",
    "    X_test_tf = tf_vect.transform([s])\n",
    "    y_predict = clf.predict(X_test_tf)\n",
    "    return y_predict"
   ]
  },
  {
   "cell_type": "code",
   "execution_count": 26,
   "metadata": {},
   "outputs": [
    {
     "data": {
      "text/plain": [
       "array(['truth'], dtype=object)"
      ]
     },
     "execution_count": 26,
     "metadata": {},
     "output_type": "execute_result"
    }
   ],
   "source": [
    "test_string(\"The hotel was good.The room had a 27-inch Samsung led tv, a microwave.The room had a double bed\")"
   ]
  },
  {
   "cell_type": "code",
   "execution_count": 27,
   "metadata": {},
   "outputs": [
    {
     "data": {
      "text/plain": [
       "array(['truth'], dtype=object)"
      ]
     },
     "execution_count": 27,
     "metadata": {},
     "output_type": "execute_result"
    }
   ],
   "source": [
    "test_string(\"My family and I are huge fans of this place. The staff is super nice, and the food is great. The chicken is very good, and the garlic sauce is perfect. Ice cream topped with fruit is delicious too. Highly recommended!\")"
   ]
  }
 ],
 "metadata": {
  "kernelspec": {
   "display_name": "Python 3",
   "language": "python",
   "name": "python3"
  },
  "language_info": {
   "codemirror_mode": {
    "name": "ipython",
    "version": 3
   },
   "file_extension": ".py",
   "mimetype": "text/x-python",
   "name": "python",
   "nbconvert_exporter": "python",
   "pygments_lexer": "ipython3",
   "version": "3.6.5"
  }
 },
 "nbformat": 4,
 "nbformat_minor": 2
}
